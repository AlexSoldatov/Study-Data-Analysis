{
  "nbformat": 4,
  "nbformat_minor": 0,
  "metadata": {
    "colab": {
      "name": "Домашнее задание 1.ipynb",
      "provenance": [],
      "mount_file_id": "1Fy_d62FyfKEZuluzJPMi0mu5GraSyCaa",
      "authorship_tag": "ABX9TyNRm5Q800iVioEI1vTxhnSQ",
      "include_colab_link": true
    },
    "kernelspec": {
      "name": "python3",
      "display_name": "Python 3"
    },
    "language_info": {
      "name": "python"
    }
  },
  "cells": [
    {
      "cell_type": "markdown",
      "metadata": {
        "id": "view-in-github",
        "colab_type": "text"
      },
      "source": [
        "<a href=\"https://colab.research.google.com/github/AlexSoldatov/Study-Data-Analysis/blob/master/%D0%94%D0%BE%D0%BC%D0%B0%D1%88%D0%BD%D0%B5%D0%B5_%D0%B7%D0%B0%D0%B4%D0%B0%D0%BD%D0%B8%D0%B5_1.ipynb\" target=\"_parent\"><img src=\"https://colab.research.google.com/assets/colab-badge.svg\" alt=\"Open In Colab\"/></a>"
      ]
    },
    {
      "cell_type": "code",
      "metadata": {
        "id": "_r8SXzr0f-s7"
      },
      "source": [
        ""
      ],
      "execution_count": null,
      "outputs": []
    },
    {
      "cell_type": "markdown",
      "metadata": {
        "id": "NNkmumNbf__4"
      },
      "source": [
        "Домошнее задание №1\n"
      ]
    },
    {
      "cell_type": "markdown",
      "metadata": {
        "id": "jSYWPUYy0fej"
      },
      "source": [
        "Подготовка данных"
      ]
    },
    {
      "cell_type": "code",
      "metadata": {
        "id": "znIWL_uhgEpP"
      },
      "source": [
        "# Импорт необходимых библиотек\n",
        "from tensorflow.keras.datasets import mnist # импорт базы изображений\n",
        "from tensorflow.keras.models import Sequential # импорт конструктора \n",
        "from tensorflow.keras.layers import Dense # импорт полносвязного слоя\n",
        "from tensorflow.keras.optimizers import Adam # импорт оптимизатора Adam\n",
        "from tensorflow.keras import utils #Утилиты для to_categorical\n",
        "from tensorflow.keras.preprocessing import image # импорт для отрисовки изображения\n",
        "import numpy as np #  импорт библтотеки nimpy\n",
        "import pylab # импорт библиотеки для построения графиков\n",
        "from mpl_toolkits.mplot3d import Axes3D # импорт библиотеки для построения 3D графиков\n",
        "from google.colab import files # импорт файловых функций для загрузки своей картинки\n",
        "import matplotlib.pyplot as plt # импорт библиотеки отрисовки (для графиков)\n",
        "from PIL import Image # импорт библиотеки для отрисовки изображений\n",
        "# Отрисовка изображений в блокноте\n",
        "%matplotlib inline \n",
        "\n"
      ],
      "execution_count": 5,
      "outputs": []
    },
    {
      "cell_type": "code",
      "metadata": {
        "colab": {
          "base_uri": "https://localhost:8080/"
        },
        "id": "8uo8erhij2QR",
        "outputId": "ce1f5d72-46df-48a9-e10c-4f5fe4e22c21"
      },
      "source": [
        "# Загружаем данные Mnist\n",
        "(x_train_org, y_train_org), (x_test_org, y_test_org) = mnist.load_data()"
      ],
      "execution_count": 6,
      "outputs": [
        {
          "output_type": "stream",
          "text": [
            "Downloading data from https://storage.googleapis.com/tensorflow/tf-keras-datasets/mnist.npz\n",
            "11493376/11490434 [==============================] - 0s 0us/step\n"
          ],
          "name": "stdout"
        }
      ]
    },
    {
      "cell_type": "code",
      "metadata": {
        "colab": {
          "base_uri": "https://localhost:8080/"
        },
        "id": "ppNys7V-k9Z6",
        "outputId": "6a14ebab-e3d7-4e6b-b58f-a1ee744e1b10"
      },
      "source": [
        "x_train_org.shape"
      ],
      "execution_count": 8,
      "outputs": [
        {
          "output_type": "execute_result",
          "data": {
            "text/plain": [
              "(60000, 28, 28)"
            ]
          },
          "metadata": {
            "tags": []
          },
          "execution_count": 8
        }
      ]
    },
    {
      "cell_type": "code",
      "metadata": {
        "colab": {
          "base_uri": "https://localhost:8080/",
          "height": 265
        },
        "id": "7oO98C7LlKVf",
        "outputId": "a9ff42c8-e24d-4717-c64b-5a442d5810d8"
      },
      "source": [
        "# Номер изображения\n",
        "n = 555\n",
        "# отрисовка картинки\n",
        "plt.imshow(Image.fromarray(x_train_org[n]).convert('RGB'))\n",
        "# вывод картинки\n",
        "plt.show()"
      ],
      "execution_count": 24,
      "outputs": [
        {
          "output_type": "display_data",
          "data": {
            "image/png": "[encoded data removed]",
            "text/plain": [
              "<Figure size 432x288 with 1 Axes>"
            ]
          },
          "metadata": {
            "tags": [],
            "needs_background": "light"
          }
        }
      ]
    },
    {
      "cell_type": "code",
      "metadata": {
        "colab": {
          "base_uri": "https://localhost:8080/"
        },
        "id": "kybaAiMEnM4-",
        "outputId": "b34d398d-bc85-46ee-86e0-7f8d846f27bd"
      },
      "source": [
        "y_train_org[n]"
      ],
      "execution_count": 25,
      "outputs": [
        {
          "output_type": "execute_result",
          "data": {
            "text/plain": [
              "2"
            ]
          },
          "metadata": {
            "tags": []
          },
          "execution_count": 25
        }
      ]
    },
    {
      "cell_type": "code",
      "metadata": {
        "colab": {
          "base_uri": "https://localhost:8080/"
        },
        "id": "iEuBrhmSnZGl",
        "outputId": "9a47ad80-18e4-43df-bd52-caf7c61b9ebd"
      },
      "source": [
        "# меняем размерность матриц с 28х28 на 748х1\n",
        "x_train = x_train_org.reshape(60000, 784)\n",
        "x_test = x_test_org.reshape(10000, 784)\n",
        "# выводим \n",
        "print(x_train_org.shape)\n",
        "print(x_train.shape)\n",
        "print(x_test_org.shape)\n",
        "print(x_test.shape)"
      ],
      "execution_count": 21,
      "outputs": [
        {
          "output_type": "stream",
          "text": [
            "(60000, 28, 28)\n",
            "(60000, 784)\n",
            "(10000, 28, 28)\n",
            "(10000, 784)\n"
          ],
          "name": "stdout"
        }
      ]
    },
    {
      "cell_type": "code",
      "metadata": {
        "id": "OKPk-lHdpXxj"
      },
      "source": [
        "# Нормализуем входные изображения\n",
        "# Преобразуем тип - в цифры с плавающий точкой\n",
        "x_train = x_train.astype('float32')\n",
        "# Нормализуем ( в данном случае делим на 255) для приведения диапазона к виду 0-1\n",
        "x_train = x_train / 255"
      ],
      "execution_count": null,
      "outputs": []
    },
    {
      "cell_type": "code",
      "metadata": {
        "colab": {
          "base_uri": "https://localhost:8080/"
        },
        "id": "JxVZfI6dq6Da",
        "outputId": "6c1b4247-261b-421e-bca7-c1dfc847b7cb"
      },
      "source": [
        "y_train_org[0]"
      ],
      "execution_count": 22,
      "outputs": [
        {
          "output_type": "execute_result",
          "data": {
            "text/plain": [
              "5"
            ]
          },
          "metadata": {
            "tags": []
          },
          "execution_count": 22
        }
      ]
    },
    {
      "cell_type": "code",
      "metadata": {
        "id": "oS9L-Qq3rciZ"
      },
      "source": [
        "# Преобразование ответов к виду one_hot_encoding\n",
        "y_train = utils.to_categorical(y_train_org, 10)\n",
        "y_test = utils.to_categorical(y_test_org, 10)"
      ],
      "execution_count": 26,
      "outputs": []
    },
    {
      "cell_type": "code",
      "metadata": {
        "colab": {
          "base_uri": "https://localhost:8080/"
        },
        "id": "0WHclfRMsTNb",
        "outputId": "69fac1f5-fcbf-44a7-8859-11addcae8fd3"
      },
      "source": [
        "# Выводим размер y_train и y_test\n",
        "print(y_train.shape)\n",
        "print(y_test.shape)"
      ],
      "execution_count": 27,
      "outputs": [
        {
          "output_type": "stream",
          "text": [
            "(60000, 10)\n",
            "(10000, 10)\n"
          ],
          "name": "stdout"
        }
      ]
    },
    {
      "cell_type": "code",
      "metadata": {
        "colab": {
          "base_uri": "https://localhost:8080/"
        },
        "id": "wjmRp_yOsykR",
        "outputId": "f87fded7-b712-4171-e4bf-e885e14f6047"
      },
      "source": [
        "# Вывод одного вектора\n",
        "print(y_train[0])"
      ],
      "execution_count": 28,
      "outputs": [
        {
          "output_type": "stream",
          "text": [
            "[0. 0. 0. 0. 0. 1. 0. 0. 0. 0.]\n"
          ],
          "name": "stdout"
        }
      ]
    },
    {
      "cell_type": "code",
      "metadata": {
        "colab": {
          "base_uri": "https://localhost:8080/"
        },
        "id": "jDqQcpq8tLe7",
        "outputId": "86c38f45-47f1-4c7e-d188-b0abedd030d5"
      },
      "source": [
        "print(y_train_org.shape)"
      ],
      "execution_count": 30,
      "outputs": [
        {
          "output_type": "stream",
          "text": [
            "(60000,)\n"
          ],
          "name": "stdout"
        }
      ]
    },
    {
      "cell_type": "markdown",
      "metadata": {
        "id": "obA5ve2m0mtz"
      },
      "source": [
        "Добавляем свое изображение\n"
      ]
    },
    {
      "cell_type": "code",
      "metadata": {
        "colab": {
          "base_uri": "https://localhost:8080/",
          "height": 130
        },
        "id": "LmmYhG_Ftaub",
        "outputId": "2730e51f-f82d-48b5-ef9b-da254d33d333"
      },
      "source": [
        "# Добавляем свое изображение\n",
        "my_pic = image.load_img('dz-0-1.jpg', target_size=(28, 28), color_mode = ‘grayscale’)"
      ],
      "execution_count": 42,
      "outputs": [
        {
          "output_type": "error",
          "ename": "SyntaxError",
          "evalue": "ignored",
          "traceback": [
            "\u001b[0;36m  File \u001b[0;32m\"<ipython-input-42-faeb1fbb6b0c>\"\u001b[0;36m, line \u001b[0;32m2\u001b[0m\n\u001b[0;31m    my_pic = image.load_img('dz-0-1.jpg', target_size=(28, 28), color_mode = ‘grayscale’)\u001b[0m\n\u001b[0m                                                                                       ^\u001b[0m\n\u001b[0;31mSyntaxError\u001b[0m\u001b[0;31m:\u001b[0m invalid character in identifier\n"
          ]
        }
      ]
    },
    {
      "cell_type": "code",
      "metadata": {
        "id": "2IQhLzhkzn0C"
      },
      "source": [
        "# Нормализуем свое изображение\n",
        "\n",
        "\n",
        "# преобразуем изображение в numpy-массив\n",
        "\n",
        "\n",
        "# Выполняем инверсию цветов, нормирование и решейп массива"
      ],
      "execution_count": null,
      "outputs": []
    },
    {
      "cell_type": "code",
      "metadata": {
        "id": "twHoNvWz0Zbf"
      },
      "source": [
        ""
      ],
      "execution_count": null,
      "outputs": []
    },
    {
      "cell_type": "markdown",
      "metadata": {
        "id": "8DtrQF5g0uFF"
      },
      "source": [
        "Создаем нейронку"
      ]
    },
    {
      "cell_type": "code",
      "metadata": {
        "id": "bifK1ei20w8G"
      },
      "source": [
        "# Создаем каркас сети прямого распространения\n",
        "model = Sequential()\n",
        "# Добавляем полносвязный слой 800 нейронов, активация \"relu\"\n",
        "model.add(Dense(800, input_dim=784, activation=\"relu\"))\n",
        "# Добавляем полносвязный слой на 400 нейронов, активация \"relu\"\n",
        "model.add(Dense(400, activation=\"relu\"))\n",
        "#Добавляем полносвязный слой 10 нейронов, активация \"softmax\"\n",
        "model.add(Dense(10, activation=\"softmax\"))"
      ],
      "execution_count": 32,
      "outputs": []
    },
    {
      "cell_type": "code",
      "metadata": {
        "colab": {
          "base_uri": "https://localhost:8080/"
        },
        "id": "KKtNoT6m2znv",
        "outputId": "750d0378-51a8-415b-a94f-ac468c917fb0"
      },
      "source": [
        "# Компилируем модель\n",
        "model.compile(loss=\"categorical_crossentropy\", optimizer=\"adam\", metrics=[\"accuracy\"])\n",
        "# Выводим структуры модели\n",
        "print(model.summary())"
      ],
      "execution_count": 34,
      "outputs": [
        {
          "output_type": "stream",
          "text": [
            "Model: \"sequential_1\"\n",
            "_________________________________________________________________\n",
            "Layer (type)                 Output Shape              Param #   \n",
            "=================================================================\n",
            "dense_1 (Dense)              (None, 800)               628000    \n",
            "_________________________________________________________________\n",
            "dense_2 (Dense)              (None, 400)               320400    \n",
            "_________________________________________________________________\n",
            "dense_3 (Dense)              (None, 10)                4010      \n",
            "=================================================================\n",
            "Total params: 952,410\n",
            "Trainable params: 952,410\n",
            "Non-trainable params: 0\n",
            "_________________________________________________________________\n",
            "None\n"
          ],
          "name": "stdout"
        }
      ]
    },
    {
      "cell_type": "code",
      "metadata": {
        "colab": {
          "base_uri": "https://localhost:8080/"
        },
        "id": "YJ5ghIJ53zqF",
        "outputId": "a82a9fe6-b516-46f2-e5a2-80e62948529b"
      },
      "source": [
        "# Обучаем нейронку\n",
        "model.fit(x_train, y_train, batch_size=128, epochs=13, verbose=1)"
      ],
      "execution_count": 37,
      "outputs": [
        {
          "output_type": "stream",
          "text": [
            "Epoch 1/13\n",
            "469/469 [==============================] - 8s 17ms/step - loss: 0.0224 - accuracy: 0.9947\n",
            "Epoch 2/13\n",
            "469/469 [==============================] - 8s 17ms/step - loss: 0.0378 - accuracy: 0.9930\n",
            "Epoch 3/13\n",
            "469/469 [==============================] - 8s 17ms/step - loss: 0.0487 - accuracy: 0.9909\n",
            "Epoch 4/13\n",
            "469/469 [==============================] - 8s 17ms/step - loss: 0.0307 - accuracy: 0.9934\n",
            "Epoch 5/13\n",
            "469/469 [==============================] - 8s 16ms/step - loss: 0.0410 - accuracy: 0.9926\n",
            "Epoch 6/13\n",
            "469/469 [==============================] - 8s 17ms/step - loss: 0.0322 - accuracy: 0.9944\n",
            "Epoch 7/13\n",
            "469/469 [==============================] - 8s 16ms/step - loss: 0.0342 - accuracy: 0.9938\n",
            "Epoch 8/13\n",
            "469/469 [==============================] - 8s 16ms/step - loss: 0.0350 - accuracy: 0.9944\n",
            "Epoch 9/13\n",
            "469/469 [==============================] - 8s 16ms/step - loss: 0.0297 - accuracy: 0.9944\n",
            "Epoch 10/13\n",
            "469/469 [==============================] - 8s 17ms/step - loss: 0.0284 - accuracy: 0.9948\n",
            "Epoch 11/13\n",
            "469/469 [==============================] - 8s 17ms/step - loss: 0.0368 - accuracy: 0.9936\n",
            "Epoch 12/13\n",
            "469/469 [==============================] - 8s 16ms/step - loss: 0.0336 - accuracy: 0.9944\n",
            "Epoch 13/13\n",
            "469/469 [==============================] - 8s 17ms/step - loss: 0.0349 - accuracy: 0.9951\n"
          ],
          "name": "stdout"
        },
        {
          "output_type": "execute_result",
          "data": {
            "text/plain": [
              "<tensorflow.python.keras.callbacks.History at 0x7f7e5fc07290>"
            ]
          },
          "metadata": {
            "tags": []
          },
          "execution_count": 37
        }
      ]
    },
    {
      "cell_type": "code",
      "metadata": {
        "id": "mVBd7OKC775t"
      },
      "source": [
        "# Сохраняем модель и загружаем ее\n",
        "model.save_weights('model-dz-1.h5')\n",
        "model.load_weights('model-dz-1.h5')"
      ],
      "execution_count": 39,
      "outputs": []
    }
  ]
}